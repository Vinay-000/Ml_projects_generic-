{
 "cells": [
  {
   "cell_type": "markdown",
   "id": "edea0d71",
   "metadata": {},
   "source": [
    "## Student Performance Indicator\n"
   ]
  },
  {
   "cell_type": "markdown",
   "id": "bc147612",
   "metadata": {},
   "source": [
    "#### Life cycle of Machine learning Project\n",
    "\n",
    "- Understanding the Problem Statement\n",
    "- Data Collection\n",
    "- Data Checks to perform\n",
    "- Exploratory data analysis\n",
    "- Data Pre-Processing\n",
    "- Model Training\n",
    "- Choose best model"
   ]
  },
  {
   "cell_type": "markdown",
   "id": "04a4f9f7",
   "metadata": {},
   "source": [
    "### 1) Problem statement\n",
    "- This project understands how the student's performance (test scores) is affected by other variables such as Gender, Ethnicity, Parental level of education, Lunch and Test preparation course.\n",
    "\n",
    "\n",
    "### 2) Data Collection\n",
    "- Dataset Source - https://www.kaggle.com/datasets/spscientist/students-performance-in-exams?datasetId=74977\n",
    "- The data consists of 8 column and 1000 rows."
   ]
  },
  {
   "cell_type": "markdown",
   "id": "57a075c3",
   "metadata": {},
   "source": [
    "### 2.1 Import Data and Required Packages\n",
    "####  Importing Pandas, Numpy, Matplotlib, Seaborn and Warings Library."
   ]
  },
  {
   "cell_type": "code",
   "execution_count": 4,
   "id": "4dca9f89",
   "metadata": {},
   "outputs": [
    {
     "name": "stderr",
     "output_type": "stream",
     "text": [
      "C:\\Users\\vinay\\Desktop\\Ana\\lib\\site-packages\\pandas\\core\\computation\\expressions.py:20: UserWarning: Pandas requires version '2.7.3' or newer of 'numexpr' (version '2.7.1' currently installed).\n",
      "  from pandas.core.computation.check import NUMEXPR_INSTALLED\n"
     ]
    },
    {
     "ename": "ModuleNotFoundError",
     "evalue": "No module named 'matplotlib._fontconfig_pattern'",
     "output_type": "error",
     "traceback": [
      "\u001b[1;31m---------------------------------------------------------------------------\u001b[0m",
      "\u001b[1;31mModuleNotFoundError\u001b[0m                       Traceback (most recent call last)",
      "Cell \u001b[1;32mIn[4], line 3\u001b[0m\n\u001b[0;32m      1\u001b[0m \u001b[38;5;28;01mimport\u001b[39;00m \u001b[38;5;21;01mnumpy\u001b[39;00m \u001b[38;5;28;01mas\u001b[39;00m \u001b[38;5;21;01mnp\u001b[39;00m\n\u001b[0;32m      2\u001b[0m \u001b[38;5;28;01mimport\u001b[39;00m \u001b[38;5;21;01mpandas\u001b[39;00m \u001b[38;5;28;01mas\u001b[39;00m \u001b[38;5;21;01mpd\u001b[39;00m\n\u001b[1;32m----> 3\u001b[0m \u001b[38;5;28;01mimport\u001b[39;00m \u001b[38;5;21;01mseaborn\u001b[39;00m \u001b[38;5;28;01mas\u001b[39;00m \u001b[38;5;21;01msns\u001b[39;00m\n\u001b[0;32m      4\u001b[0m \u001b[38;5;28;01mimport\u001b[39;00m \u001b[38;5;21;01mmatplotlib\u001b[39;00m\u001b[38;5;21;01m.\u001b[39;00m\u001b[38;5;21;01mpyplot\u001b[39;00m \u001b[38;5;28;01mas\u001b[39;00m \u001b[38;5;21;01mplt\u001b[39;00m\n\u001b[0;32m      5\u001b[0m get_ipython()\u001b[38;5;241m.\u001b[39mrun_line_magic(\u001b[38;5;124m'\u001b[39m\u001b[38;5;124mmatplotlib\u001b[39m\u001b[38;5;124m'\u001b[39m, \u001b[38;5;124m'\u001b[39m\u001b[38;5;124minline\u001b[39m\u001b[38;5;124m'\u001b[39m)\n",
      "File \u001b[1;32m~\\Desktop\\Ana\\lib\\site-packages\\seaborn\\__init__.py:2\u001b[0m\n\u001b[0;32m      1\u001b[0m \u001b[38;5;66;03m# Import seaborn objects\u001b[39;00m\n\u001b[1;32m----> 2\u001b[0m \u001b[38;5;28;01mfrom\u001b[39;00m \u001b[38;5;21;01m.\u001b[39;00m\u001b[38;5;21;01mrcmod\u001b[39;00m \u001b[38;5;28;01mimport\u001b[39;00m \u001b[38;5;241m*\u001b[39m  \u001b[38;5;66;03m# noqa: F401,F403\u001b[39;00m\n\u001b[0;32m      3\u001b[0m \u001b[38;5;28;01mfrom\u001b[39;00m \u001b[38;5;21;01m.\u001b[39;00m\u001b[38;5;21;01mutils\u001b[39;00m \u001b[38;5;28;01mimport\u001b[39;00m \u001b[38;5;241m*\u001b[39m  \u001b[38;5;66;03m# noqa: F401,F403\u001b[39;00m\n\u001b[0;32m      4\u001b[0m \u001b[38;5;28;01mfrom\u001b[39;00m \u001b[38;5;21;01m.\u001b[39;00m\u001b[38;5;21;01mpalettes\u001b[39;00m \u001b[38;5;28;01mimport\u001b[39;00m \u001b[38;5;241m*\u001b[39m  \u001b[38;5;66;03m# noqa: F401,F403\u001b[39;00m\n",
      "File \u001b[1;32m~\\Desktop\\Ana\\lib\\site-packages\\seaborn\\rcmod.py:3\u001b[0m\n\u001b[0;32m      1\u001b[0m \u001b[38;5;124;03m\"\"\"Control plot style and scaling using the matplotlib rcParams interface.\"\"\"\u001b[39;00m\n\u001b[0;32m      2\u001b[0m \u001b[38;5;28;01mimport\u001b[39;00m \u001b[38;5;21;01mfunctools\u001b[39;00m\n\u001b[1;32m----> 3\u001b[0m \u001b[38;5;28;01mimport\u001b[39;00m \u001b[38;5;21;01mmatplotlib\u001b[39;00m \u001b[38;5;28;01mas\u001b[39;00m \u001b[38;5;21;01mmpl\u001b[39;00m\n\u001b[0;32m      4\u001b[0m \u001b[38;5;28;01mfrom\u001b[39;00m \u001b[38;5;21;01mcycler\u001b[39;00m \u001b[38;5;28;01mimport\u001b[39;00m cycler\n\u001b[0;32m      5\u001b[0m \u001b[38;5;28;01mfrom\u001b[39;00m \u001b[38;5;21;01m.\u001b[39;00m \u001b[38;5;28;01mimport\u001b[39;00m palettes\n",
      "File \u001b[1;32m~\\Desktop\\Ana\\lib\\site-packages\\matplotlib\\__init__.py:139\u001b[0m\n\u001b[0;32m    135\u001b[0m \u001b[38;5;28;01mimport\u001b[39;00m \u001b[38;5;21;01mwarnings\u001b[39;00m\n\u001b[0;32m    137\u001b[0m \u001b[38;5;66;03m# cbook must import matplotlib only within function\u001b[39;00m\n\u001b[0;32m    138\u001b[0m \u001b[38;5;66;03m# definitions, so it is safe to import from it here.\u001b[39;00m\n\u001b[1;32m--> 139\u001b[0m \u001b[38;5;28;01mfrom\u001b[39;00m \u001b[38;5;21;01m.\u001b[39;00m \u001b[38;5;28;01mimport\u001b[39;00m cbook, rcsetup\n\u001b[0;32m    140\u001b[0m \u001b[38;5;28;01mfrom\u001b[39;00m \u001b[38;5;21;01mmatplotlib\u001b[39;00m\u001b[38;5;21;01m.\u001b[39;00m\u001b[38;5;21;01mcbook\u001b[39;00m \u001b[38;5;28;01mimport\u001b[39;00m (\n\u001b[0;32m    141\u001b[0m     MatplotlibDeprecationWarning, dedent, get_label, sanitize_sequence)\n\u001b[0;32m    142\u001b[0m \u001b[38;5;28;01mfrom\u001b[39;00m \u001b[38;5;21;01mmatplotlib\u001b[39;00m\u001b[38;5;21;01m.\u001b[39;00m\u001b[38;5;21;01mcbook\u001b[39;00m \u001b[38;5;28;01mimport\u001b[39;00m mplDeprecation  \u001b[38;5;66;03m# deprecated\u001b[39;00m\n",
      "File \u001b[1;32m~\\Desktop\\Ana\\lib\\site-packages\\matplotlib\\rcsetup.py:27\u001b[0m\n\u001b[0;32m     25\u001b[0m \u001b[38;5;28;01mfrom\u001b[39;00m \u001b[38;5;21;01mmatplotlib\u001b[39;00m \u001b[38;5;28;01mimport\u001b[39;00m cbook\n\u001b[0;32m     26\u001b[0m \u001b[38;5;28;01mfrom\u001b[39;00m \u001b[38;5;21;01mmatplotlib\u001b[39;00m\u001b[38;5;21;01m.\u001b[39;00m\u001b[38;5;21;01mcbook\u001b[39;00m \u001b[38;5;28;01mimport\u001b[39;00m ls_mapper\n\u001b[1;32m---> 27\u001b[0m \u001b[38;5;28;01mfrom\u001b[39;00m \u001b[38;5;21;01mmatplotlib\u001b[39;00m\u001b[38;5;21;01m.\u001b[39;00m\u001b[38;5;21;01mfontconfig_pattern\u001b[39;00m \u001b[38;5;28;01mimport\u001b[39;00m parse_fontconfig_pattern\n\u001b[0;32m     28\u001b[0m \u001b[38;5;28;01mfrom\u001b[39;00m \u001b[38;5;21;01mmatplotlib\u001b[39;00m\u001b[38;5;21;01m.\u001b[39;00m\u001b[38;5;21;01mcolors\u001b[39;00m \u001b[38;5;28;01mimport\u001b[39;00m is_color_like\n\u001b[0;32m     30\u001b[0m \u001b[38;5;66;03m# Don't let the original cycler collide with our validating cycler\u001b[39;00m\n",
      "File \u001b[1;32m~\\Desktop\\Ana\\lib\\site-packages\\matplotlib\\fontconfig_pattern.py:4\u001b[0m\n\u001b[0;32m      1\u001b[0m \u001b[38;5;28;01mimport\u001b[39;00m \u001b[38;5;21;01mre\u001b[39;00m\n\u001b[0;32m      2\u001b[0m \u001b[38;5;28;01mfrom\u001b[39;00m \u001b[38;5;21;01mpyparsing\u001b[39;00m \u001b[38;5;28;01mimport\u001b[39;00m ParseException\n\u001b[1;32m----> 4\u001b[0m \u001b[38;5;28;01mfrom\u001b[39;00m \u001b[38;5;21;01mmatplotlib\u001b[39;00m\u001b[38;5;21;01m.\u001b[39;00m\u001b[38;5;21;01m_fontconfig_pattern\u001b[39;00m \u001b[38;5;28;01mimport\u001b[39;00m \u001b[38;5;241m*\u001b[39m  \u001b[38;5;66;03m# noqa: F401, F403\u001b[39;00m\n\u001b[0;32m      5\u001b[0m \u001b[38;5;28;01mfrom\u001b[39;00m \u001b[38;5;21;01mmatplotlib\u001b[39;00m\u001b[38;5;21;01m.\u001b[39;00m\u001b[38;5;21;01m_fontconfig_pattern\u001b[39;00m \u001b[38;5;28;01mimport\u001b[39;00m (\n\u001b[0;32m      6\u001b[0m     parse_fontconfig_pattern, _family_punc, _value_punc)\n\u001b[0;32m      7\u001b[0m \u001b[38;5;28;01mfrom\u001b[39;00m \u001b[38;5;21;01mmatplotlib\u001b[39;00m \u001b[38;5;28;01mimport\u001b[39;00m _api\n",
      "\u001b[1;31mModuleNotFoundError\u001b[0m: No module named 'matplotlib._fontconfig_pattern'"
     ]
    }
   ],
   "source": [
    "import numpy as np\n",
    "import pandas as pd\n",
    "import seaborn as sns\n",
    "import matplotlib.pyplot as plt\n",
    "%matplotlib inline\n",
    "import warnings\n",
    "warnings.filterwarnings('ignore')"
   ]
  },
  {
   "cell_type": "markdown",
   "id": "99f5f4bc",
   "metadata": {},
   "source": [
    "#### Import the CSV Data as Pandas DataFrame"
   ]
  },
  {
   "cell_type": "code",
   "execution_count": null,
   "id": "b2bc72d0",
   "metadata": {},
   "outputs": [],
   "source": [
    "df = pd.read_csv('data/stud.csv')"
   ]
  },
  {
   "cell_type": "markdown",
   "id": "0fa5b8ff",
   "metadata": {},
   "source": [
    "#### Show Top 5 Records"
   ]
  },
  {
   "cell_type": "code",
   "execution_count": null,
   "id": "c17c17f8",
   "metadata": {},
   "outputs": [],
   "source": [
    "df.head()"
   ]
  },
  {
   "cell_type": "markdown",
   "id": "87b1a77d",
   "metadata": {},
   "source": [
    "#### Shape of the dataset"
   ]
  },
  {
   "cell_type": "code",
   "execution_count": null,
   "id": "0a9fd1c6",
   "metadata": {},
   "outputs": [],
   "source": [
    "df.shape"
   ]
  },
  {
   "cell_type": "markdown",
   "id": "61a743ba",
   "metadata": {},
   "source": [
    "### 2.2 Dataset information"
   ]
  },
  {
   "cell_type": "markdown",
   "id": "51479a07",
   "metadata": {},
   "source": [
    "- gender : sex of students  -> (Male/female)\n",
    "- race/ethnicity : ethnicity of students -> (Group A, B,C, D,E)\n",
    "- parental level of education : parents' final education ->(bachelor's degree,some college,master's degree,associate's degree,high school)\n",
    "- lunch : having lunch before test (standard or free/reduced) \n",
    "- test preparation course : complete or not complete before test\n",
    "- math score\n",
    "- reading score\n",
    "- writing score"
   ]
  },
  {
   "cell_type": "markdown",
   "id": "c85f1fc7",
   "metadata": {},
   "source": [
    "### 3. Data Checks to perform\n",
    "\n",
    "- Check Missing values\n",
    "- Check Duplicates\n",
    "- Check data type\n",
    "- Check the number of unique values of each column\n",
    "- Check statistics of data set\n",
    "- Check various categories present in the different categorical column"
   ]
  },
  {
   "cell_type": "markdown",
   "id": "a81f1180",
   "metadata": {},
   "source": [
    "### 3.1 Check Missing values"
   ]
  },
  {
   "cell_type": "code",
   "execution_count": null,
   "id": "0f81cc99",
   "metadata": {},
   "outputs": [],
   "source": [
    "df.isna().sum()"
   ]
  },
  {
   "cell_type": "markdown",
   "id": "fc8f9e52",
   "metadata": {},
   "source": [
    "#### There are no missing values in the data set"
   ]
  },
  {
   "cell_type": "markdown",
   "id": "ab82b339",
   "metadata": {},
   "source": [
    "### 3.2 Check Duplicates"
   ]
  },
  {
   "cell_type": "code",
   "execution_count": null,
   "id": "817c0de7",
   "metadata": {},
   "outputs": [],
   "source": [
    "df.duplicated().sum()"
   ]
  },
  {
   "cell_type": "markdown",
   "id": "4be7f3f8",
   "metadata": {},
   "source": [
    "#### There are no duplicates  values in the data set"
   ]
  },
  {
   "cell_type": "markdown",
   "id": "3cd11581",
   "metadata": {},
   "source": [
    "### 3.3 Check data types"
   ]
  },
  {
   "cell_type": "code",
   "execution_count": null,
   "id": "cf3c9017",
   "metadata": {},
   "outputs": [],
   "source": [
    "# Check Null and Dtypes\n",
    "df.info()"
   ]
  },
  {
   "cell_type": "markdown",
   "id": "8671aad1",
   "metadata": {},
   "source": [
    "### 3.4 Checking the number of unique values of each column"
   ]
  },
  {
   "cell_type": "code",
   "execution_count": null,
   "id": "bdd9fb87",
   "metadata": {},
   "outputs": [],
   "source": [
    "df.nunique()"
   ]
  },
  {
   "cell_type": "markdown",
   "id": "2d1f3ec8",
   "metadata": {},
   "source": [
    "### 3.5 Check statistics of data set"
   ]
  },
  {
   "cell_type": "code",
   "execution_count": null,
   "id": "4d2e29fe",
   "metadata": {},
   "outputs": [],
   "source": [
    "df.describe()"
   ]
  },
  {
   "cell_type": "markdown",
   "id": "ddf5eb87",
   "metadata": {},
   "source": [
    "#### Insight\n",
    "- From above description of numerical data, all means are very close to each other - between 66 and 68.05;\n",
    "- All standard deviations are also close - between 14.6 and 15.19;\n",
    "- While there is a minimum score  0 for math, for writing minimum is much higher = 10 and for reading myet higher = 17"
   ]
  },
  {
   "cell_type": "markdown",
   "id": "817ebdb9",
   "metadata": {},
   "source": [
    "### 3.7 Exploring Data"
   ]
  },
  {
   "cell_type": "code",
   "execution_count": null,
   "id": "61a59906",
   "metadata": {},
   "outputs": [],
   "source": [
    "df.head()"
   ]
  },
  {
   "cell_type": "code",
   "execution_count": null,
   "id": "93d8f305",
   "metadata": {},
   "outputs": [],
   "source": [
    "print(\"Categories in 'gender' variable:     \",end=\" \" )\n",
    "print(df['gender'].unique())\n",
    "\n",
    "print(\"Categories in 'race_ethnicity' variable:  \",end=\" \")\n",
    "print(df['race_ethnicity'].unique())\n",
    "\n",
    "print(\"Categories in'parental level of education' variable:\",end=\" \" )\n",
    "print(df['parental_level_of_education'].unique())\n",
    "\n",
    "print(\"Categories in 'lunch' variable:     \",end=\" \" )\n",
    "print(df['lunch'].unique())\n",
    "\n",
    "print(\"Categories in 'test preparation course' variable:     \",end=\" \" )\n",
    "print(df['test_preparation_course'].unique())"
   ]
  },
  {
   "cell_type": "code",
   "execution_count": null,
   "id": "d7098c15",
   "metadata": {},
   "outputs": [],
   "source": [
    "# define numerical & categorical columns\n",
    "numeric_features = [feature for feature in df.columns if df[feature].dtype != 'O']\n",
    "categorical_features = [feature for feature in df.columns if df[feature].dtype == 'O']\n",
    "\n",
    "# print columns\n",
    "print('We have {} numerical features : {}'.format(len(numeric_features), numeric_features))\n",
    "print('\\nWe have {} categorical features : {}'.format(len(categorical_features), categorical_features))"
   ]
  },
  {
   "cell_type": "code",
   "execution_count": null,
   "id": "0eb3c8be",
   "metadata": {},
   "outputs": [],
   "source": [
    "df.head(2)"
   ]
  },
  {
   "cell_type": "code",
   "execution_count": null,
   "id": "878e8b11",
   "metadata": {},
   "outputs": [],
   "source": []
  },
  {
   "cell_type": "markdown",
   "id": "0922a30f",
   "metadata": {},
   "source": [
    "### 3.8 Adding columns for \"Total Score\" and \"Average\""
   ]
  },
  {
   "cell_type": "code",
   "execution_count": null,
   "id": "fb2a4503",
   "metadata": {},
   "outputs": [],
   "source": [
    "df['total score'] = df['math_score'] + df['reading_score'] + df['writing_score']\n",
    "df['average'] = df['total score']/3\n",
    "df.head()"
   ]
  },
  {
   "cell_type": "code",
   "execution_count": null,
   "id": "a8ec0ebf",
   "metadata": {},
   "outputs": [],
   "source": [
    "reading_full = df[df['reading_score'] == 100]['average'].count()\n",
    "writing_full = df[df['writing_score'] == 100]['average'].count()\n",
    "math_full = df[df['math_score'] == 100]['average'].count()\n",
    "\n",
    "print(f'Number of students with full marks in Maths: {math_full}')\n",
    "print(f'Number of students with full marks in Writing: {writing_full}')\n",
    "print(f'Number of students with full marks in Reading: {reading_full}')"
   ]
  },
  {
   "cell_type": "code",
   "execution_count": null,
   "id": "5619b0df",
   "metadata": {},
   "outputs": [],
   "source": [
    "reading_less_20 = df[df['reading_score'] <= 20]['average'].count()\n",
    "writing_less_20 = df[df['writing_score'] <= 20]['average'].count()\n",
    "math_less_20 = df[df['math_score'] <= 20]['average'].count()\n",
    "\n",
    "print(f'Number of students with less than 20 marks in Maths: {math_less_20}')\n",
    "print(f'Number of students with less than 20 marks in Writing: {writing_less_20}')\n",
    "print(f'Number of students with less than 20 marks in Reading: {reading_less_20}')"
   ]
  },
  {
   "cell_type": "markdown",
   "id": "81b5dd05",
   "metadata": {},
   "source": [
    "#####  Insights\n",
    " - From above values we get students have performed the worst in Maths \n",
    " - Best performance is in reading section"
   ]
  },
  {
   "cell_type": "markdown",
   "id": "8d46cb4e",
   "metadata": {},
   "source": [
    "### 4. Exploring Data ( Visualization )\n",
    "#### 4.1 Visualize average score distribution to make some conclusion. \n",
    "- Histogram\n",
    "- Kernel Distribution Function (KDE)"
   ]
  },
  {
   "cell_type": "markdown",
   "id": "5a7e79f1",
   "metadata": {},
   "source": [
    "#### 4.1.1 Histogram & KDE"
   ]
  },
  {
   "cell_type": "code",
   "execution_count": null,
   "id": "2eae8678",
   "metadata": {},
   "outputs": [],
   "source": [
    "fig, axs = plt.subplots(1, 2, figsize=(15, 7))\n",
    "plt.subplot(121)\n",
    "sns.histplot(data=df,x='average',bins=30,kde=True,color='g')\n",
    "plt.subplot(122)\n",
    "sns.histplot(data=df,x='average',kde=True,hue='gender')\n",
    "plt.show()"
   ]
  },
  {
   "cell_type": "code",
   "execution_count": null,
   "id": "822adbcf",
   "metadata": {},
   "outputs": [],
   "source": [
    "fig, axs = plt.subplots(1, 2, figsize=(15, 7))\n",
    "plt.subplot(121)\n",
    "sns.histplot(data=df,x='total score',bins=30,kde=True,color='g')\n",
    "plt.subplot(122)\n",
    "sns.histplot(data=df,x='total score',kde=True,hue='gender')\n",
    "plt.show()"
   ]
  },
  {
   "cell_type": "markdown",
   "id": "2884487c",
   "metadata": {},
   "source": [
    "#####  Insights\n",
    "- Female students tend to perform well then male students."
   ]
  },
  {
   "cell_type": "code",
   "execution_count": null,
   "id": "b4a6d1e4",
   "metadata": {},
   "outputs": [],
   "source": [
    "plt.subplots(1,3,figsize=(25,6))\n",
    "plt.subplot(141)\n",
    "sns.histplot(data=df,x='average',kde=True,hue='lunch')\n",
    "plt.subplot(142)\n",
    "sns.histplot(data=df[df.gender=='female'],x='average',kde=True,hue='lunch')\n",
    "plt.subplot(143)\n",
    "sns.histplot(data=df[df.gender=='male'],x='average',kde=True,hue='lunch')\n",
    "plt.show()"
   ]
  },
  {
   "cell_type": "markdown",
   "id": "5d8c524d",
   "metadata": {},
   "source": [
    "#####  Insights\n",
    "- Standard lunch helps perform well in exams.\n",
    "- Standard lunch helps perform well in exams be it a male or a female."
   ]
  },
  {
   "cell_type": "code",
   "execution_count": null,
   "id": "77895151",
   "metadata": {},
   "outputs": [],
   "source": [
    "plt.subplots(1,3,figsize=(25,6))\n",
    "plt.subplot(141)\n",
    "ax =sns.histplot(data=df,x='average',kde=True,hue='parental_level_of_education')\n",
    "plt.subplot(142)\n",
    "ax =sns.histplot(data=df[df.gender=='male'],x='average',kde=True,hue='parental_level_of_education')\n",
    "plt.subplot(143)\n",
    "ax =sns.histplot(data=df[df.gender=='female'],x='average',kde=True,hue='parental_level_of_education')\n",
    "plt.show()"
   ]
  },
  {
   "cell_type": "markdown",
   "id": "207e5a36",
   "metadata": {},
   "source": [
    "#####  Insights\n",
    "- In general parent's education don't help student perform well in exam.\n",
    "- 2nd plot shows that parent's whose education is of associate's degree or master's degree their male child tend to perform well in exam\n",
    "- 3rd plot we can see there is no effect of parent's education on female students."
   ]
  },
  {
   "cell_type": "code",
   "execution_count": null,
   "id": "c0e7cfa6",
   "metadata": {},
   "outputs": [],
   "source": [
    "df.head()"
   ]
  },
  {
   "cell_type": "code",
   "execution_count": null,
   "id": "13968581",
   "metadata": {},
   "outputs": [],
   "source": [
    "plt.subplots(1,3,figsize=(25,6))\n",
    "plt.subplot(141)\n",
    "ax =sns.histplot(data=df,x='average',kde=True,hue='race_ethnicity')\n",
    "plt.subplot(142)\n",
    "ax =sns.histplot(data=df[df.gender=='female'],x='average',kde=True,hue='race_ethnicity')\n",
    "plt.subplot(143)\n",
    "ax =sns.histplot(data=df[df.gender=='male'],x='average',kde=True,hue='race_ethnicity')\n",
    "plt.show()"
   ]
  },
  {
   "cell_type": "markdown",
   "id": "ca866832",
   "metadata": {},
   "source": [
    "#####  Insights\n",
    "- Students of group A and group B tends to perform poorly in exam.\n",
    "- Students of group A and group B tends to perform poorly in exam irrespective of whether they are male or female"
   ]
  },
  {
   "cell_type": "markdown",
   "id": "def99305",
   "metadata": {},
   "source": [
    "#### 4.2 Maximumum score of students in all three subjects"
   ]
  },
  {
   "cell_type": "code",
   "execution_count": null,
   "id": "ba56c5c7",
   "metadata": {},
   "outputs": [],
   "source": [
    "\n",
    "plt.figure(figsize=(18,8))\n",
    "plt.subplot(1, 4, 1)\n",
    "plt.title('MATH SCORES')\n",
    "sns.violinplot(y='math_score',data=df,color='red',linewidth=3)\n",
    "plt.subplot(1, 4, 2)\n",
    "plt.title('READING SCORES')\n",
    "sns.violinplot(y='reading_score',data=df,color='green',linewidth=3)\n",
    "plt.subplot(1, 4, 3)\n",
    "plt.title('WRITING SCORES')\n",
    "sns.violinplot(y='writing_score',data=df,color='blue',linewidth=3)\n",
    "plt.show()"
   ]
  },
  {
   "cell_type": "markdown",
   "id": "fa169a38",
   "metadata": {},
   "source": [
    "#### Insights\n",
    "- From the above three plots its clearly visible that most of the students score in between 60-80 in Maths whereas in reading and writing most of them score from 50-80"
   ]
  },
  {
   "cell_type": "markdown",
   "id": "50f89e8d",
   "metadata": {},
   "source": [
    "#### 4.3 Multivariate analysis using pieplot"
   ]
  },
  {
   "cell_type": "code",
   "execution_count": null,
   "id": "81289027",
   "metadata": {},
   "outputs": [],
   "source": [
    "df.head()"
   ]
  },
  {
   "cell_type": "code",
   "execution_count": null,
   "id": "2bff65f6",
   "metadata": {},
   "outputs": [],
   "source": [
    "plt.rcParams['figure.figsize'] = (30, 12)\n",
    "\n",
    "plt.subplot(1, 5, 1)\n",
    "size = df['gender'].value_counts()\n",
    "labels = 'Female', 'Male'\n",
    "color = ['red','green']\n",
    "\n",
    "\n",
    "plt.pie(size, colors = color, labels = labels,autopct = '.%2f%%')\n",
    "plt.title('Gender', fontsize = 20)\n",
    "plt.axis('off')\n",
    "\n",
    "\n",
    "\n",
    "plt.subplot(1, 5, 2)\n",
    "size = df['race_ethnicity'].value_counts()\n",
    "labels = 'Group C', 'Group D','Group B','Group E','Group A'\n",
    "color = ['red', 'green', 'blue', 'cyan','orange']\n",
    "\n",
    "plt.pie(size, colors = color,labels = labels,autopct = '.%2f%%')\n",
    "plt.title('Race/Ethnicity', fontsize = 20)\n",
    "plt.axis('off')\n",
    "\n",
    "\n",
    "\n",
    "plt.subplot(1, 5, 3)\n",
    "size = df['lunch'].value_counts()\n",
    "labels = 'Standard', 'Free'\n",
    "color = ['red','green']\n",
    "\n",
    "plt.pie(size, colors = color,labels = labels,autopct = '.%2f%%')\n",
    "plt.title('Lunch', fontsize = 20)\n",
    "plt.axis('off')\n",
    "\n",
    "\n",
    "plt.subplot(1, 5, 4)\n",
    "size = df['test_preparation_course'].value_counts()\n",
    "labels = 'None', 'Completed'\n",
    "color = ['red','green']\n",
    "\n",
    "plt.pie(size, colors = color,labels = labels,autopct = '.%2f%%')\n",
    "plt.title('Test Course', fontsize = 20)\n",
    "plt.axis('off')\n",
    "\n",
    "\n",
    "plt.subplot(1, 5, 5)\n",
    "size = df['parental_level_of_education'].value_counts()\n",
    "labels = 'Some College', \"Associate's Degree\",'High School','Some High School',\"Bachelor's Degree\",\"Master's Degree\"\n",
    "color = ['red', 'green', 'blue', 'cyan','orange','grey']\n",
    "\n",
    "plt.pie(size, colors = color,labels = labels,autopct = '.%2f%%')\n",
    "plt.title('Parental Education', fontsize = 20)\n",
    "plt.axis('off')\n",
    "\n",
    "\n",
    "plt.tight_layout()\n",
    "plt.grid()\n",
    "\n",
    "plt.show()"
   ]
  },
  {
   "cell_type": "markdown",
   "id": "fab1a049",
   "metadata": {},
   "source": [
    "#####  Insights\n",
    "- Number of Male and Female students is almost equal\n",
    "- Number students are greatest in Group C\n",
    "- Number of students who have standard lunch are greater\n",
    "- Number of students who have not enrolled in any test preparation course is greater\n",
    "- Number of students whose parental education is \"Some College\" is greater followed closely by \"Associate's Degree\""
   ]
  },
  {
   "cell_type": "markdown",
   "id": "7a9b7273",
   "metadata": {},
   "source": [
    "#### 4.4 Feature Wise Visualization\n",
    "#### 4.4.1 GENDER COLUMN\n",
    "- How is distribution of Gender ?\n",
    "- Is gender has any impact on student's performance ?"
   ]
  },
  {
   "cell_type": "markdown",
   "id": "b33ce040",
   "metadata": {},
   "source": [
    "#### UNIVARIATE ANALYSIS ( How is distribution of Gender ? )"
   ]
  },
  {
   "cell_type": "code",
   "execution_count": null,
   "id": "0a879974",
   "metadata": {},
   "outputs": [],
   "source": [
    "f,ax=plt.subplots(1,2,figsize=(20,10))\n",
    "sns.countplot(x=df['gender'],data=df,palette ='bright',ax=ax[0],saturation=0.95)\n",
    "for container in ax[0].containers:\n",
    "    ax[0].bar_label(container,color='black',size=20)\n",
    "    \n",
    "plt.pie(x=df['gender'].value_counts(),labels=['Male','Female'],explode=[0,0.1],autopct='%1.1f%%',shadow=True,colors=['#ff4d4d','#ff8000'])\n",
    "plt.show()"
   ]
  },
  {
   "cell_type": "markdown",
   "id": "680772a9",
   "metadata": {},
   "source": [
    "#### Insights \n",
    "- Gender has balanced data with female students are 518 (48%) and male students are 482 (52%) "
   ]
  },
  {
   "cell_type": "markdown",
   "id": "73021ebf",
   "metadata": {},
   "source": [
    "#### BIVARIATE ANALYSIS ( Is gender has any impact on student's performance ? ) "
   ]
  },
  {
   "cell_type": "code",
   "execution_count": null,
   "id": "7887a1ad",
   "metadata": {},
   "outputs": [],
   "source": [
    "gender_group = df.groupby('gender').mean()\n",
    "gender_group"
   ]
  },
  {
   "cell_type": "code",
   "execution_count": null,
   "id": "13b9da04",
   "metadata": {},
   "outputs": [],
   "source": [
    "plt.figure(figsize=(10, 8))\n",
    "\n",
    "X = ['Total Average','Math Average']\n",
    "\n",
    "\n",
    "female_scores = [gender_group['average'][0], gender_group['math score'][0]]\n",
    "male_scores = [gender_group['average'][1], gender_group['math score'][1]]\n",
    "\n",
    "X_axis = np.arange(len(X))\n",
    "  \n",
    "plt.bar(X_axis - 0.2, male_scores, 0.4, label = 'Male')\n",
    "plt.bar(X_axis + 0.2, female_scores, 0.4, label = 'Female')\n",
    "  \n",
    "plt.xticks(X_axis, X)\n",
    "plt.ylabel(\"Marks\")\n",
    "plt.title(\"Total average v/s Math average marks of both the genders\", fontweight='bold')\n",
    "plt.legend()\n",
    "plt.show()"
   ]
  },
  {
   "cell_type": "markdown",
   "id": "265ea21a",
   "metadata": {},
   "source": [
    "#### Insights \n",
    "- On an average females have a better overall score than men.\n",
    "- whereas males have scored higher in Maths."
   ]
  },
  {
   "cell_type": "markdown",
   "id": "555c1c79",
   "metadata": {},
   "source": [
    "#### 4.4.2 RACE/EHNICITY COLUMN\n",
    "- How is Group wise distribution ?\n",
    "- Is Race/Ehnicity has any impact on student's performance ?"
   ]
  },
  {
   "cell_type": "markdown",
   "id": "05552ede",
   "metadata": {},
   "source": [
    "#### UNIVARIATE ANALYSIS ( How is Group wise distribution ?)"
   ]
  },
  {
   "cell_type": "code",
   "execution_count": null,
   "id": "bd378b59",
   "metadata": {},
   "outputs": [],
   "source": [
    "f,ax=plt.subplots(1,2,figsize=(20,10))\n",
    "sns.countplot(x=df['race/ethnicity'],data=df,palette = 'bright',ax=ax[0],saturation=0.95)\n",
    "for container in ax[0].containers:\n",
    "    ax[0].bar_label(container,color='black',size=20)\n",
    "    \n",
    "plt.pie(x = df['race/ethnicity'].value_counts(),labels=df['race/ethnicity'].value_counts().index,explode=[0.1,0,0,0,0],autopct='%1.1f%%',shadow=True)\n",
    "plt.show()   "
   ]
  },
  {
   "cell_type": "markdown",
   "id": "b36bb9a2",
   "metadata": {},
   "source": [
    "#### Insights \n",
    "- Most of the student belonging from group C /group D.\n",
    "- Lowest number of students belong to groupA."
   ]
  },
  {
   "cell_type": "markdown",
   "id": "068ea33c",
   "metadata": {},
   "source": [
    "#### BIVARIATE ANALYSIS ( Is Race/Ehnicity has any impact on student's performance ? )"
   ]
  },
  {
   "cell_type": "code",
   "execution_count": null,
   "id": "0cd4e74f",
   "metadata": {},
   "outputs": [],
   "source": [
    "Group_data2=df.groupby('race/ethnicity')\n",
    "f,ax=plt.subplots(1,3,figsize=(20,8))\n",
    "sns.barplot(x=Group_data2['math score'].mean().index,y=Group_data2['math score'].mean().values,palette = 'mako',ax=ax[0])\n",
    "ax[0].set_title('Math score',color='#005ce6',size=20)\n",
    "\n",
    "for container in ax[0].containers:\n",
    "    ax[0].bar_label(container,color='black',size=15)\n",
    "\n",
    "sns.barplot(x=Group_data2['reading score'].mean().index,y=Group_data2['reading score'].mean().values,palette = 'flare',ax=ax[1])\n",
    "ax[1].set_title('Reading score',color='#005ce6',size=20)\n",
    "\n",
    "for container in ax[1].containers:\n",
    "    ax[1].bar_label(container,color='black',size=15)\n",
    "\n",
    "sns.barplot(x=Group_data2['writing score'].mean().index,y=Group_data2['writing score'].mean().values,palette = 'coolwarm',ax=ax[2])\n",
    "ax[2].set_title('Writing score',color='#005ce6',size=20)\n",
    "\n",
    "for container in ax[2].containers:\n",
    "    ax[2].bar_label(container,color='black',size=15)"
   ]
  },
  {
   "cell_type": "markdown",
   "id": "47b5417b",
   "metadata": {},
   "source": [
    "#### Insights \n",
    "- Group E students have scored the highest marks. \n",
    "- Group A students have scored the lowest marks. \n",
    "- Students from a lower Socioeconomic status have a lower avg in all course subjects"
   ]
  },
  {
   "cell_type": "markdown",
   "id": "29c5c1f0",
   "metadata": {},
   "source": [
    "#### 4.4.3 PARENTAL LEVEL OF EDUCATION COLUMN\n",
    "- What is educational background of student's parent ?\n",
    "- Is parental education has any impact on student's performance ?"
   ]
  },
  {
   "cell_type": "markdown",
   "id": "5883ca5f",
   "metadata": {},
   "source": [
    "#### UNIVARIATE ANALYSIS ( What is educational background of student's parent ? )"
   ]
  },
  {
   "cell_type": "code",
   "execution_count": null,
   "id": "5dca3e03",
   "metadata": {},
   "outputs": [],
   "source": [
    "plt.rcParams['figure.figsize'] = (15, 9)\n",
    "plt.style.use('fivethirtyeight')\n",
    "sns.countplot(df['parental level of education'], palette = 'Blues')\n",
    "plt.title('Comparison of Parental Education', fontweight = 30, fontsize = 20)\n",
    "plt.xlabel('Degree')\n",
    "plt.ylabel('count')\n",
    "plt.show()"
   ]
  },
  {
   "cell_type": "markdown",
   "id": "6367e09b",
   "metadata": {},
   "source": [
    "#### Insights \n",
    "- Largest number of parents are from some college."
   ]
  },
  {
   "cell_type": "markdown",
   "id": "590e3c7f",
   "metadata": {},
   "source": [
    "#### BIVARIATE ANALYSIS ( Is parental education has any impact on student's performance ? )"
   ]
  },
  {
   "cell_type": "code",
   "execution_count": null,
   "id": "4483c573",
   "metadata": {},
   "outputs": [],
   "source": [
    "df.groupby('parental level of education').agg('mean').plot(kind='barh',figsize=(10,10))\n",
    "plt.legend(bbox_to_anchor=(1.05, 1), loc=2, borderaxespad=0.)\n",
    "plt.show()"
   ]
  },
  {
   "cell_type": "markdown",
   "id": "4c4c1bea",
   "metadata": {},
   "source": [
    "#### Insights \n",
    "- The score of student whose parents possess master and bachelor level education are higher than others."
   ]
  },
  {
   "cell_type": "markdown",
   "id": "95f3ad89",
   "metadata": {},
   "source": [
    "#### 4.4.4 LUNCH COLUMN \n",
    "- Which type of lunch is most common amoung students ?\n",
    "- What is the effect of lunch type on test results?\n"
   ]
  },
  {
   "cell_type": "markdown",
   "id": "4979ee8a",
   "metadata": {},
   "source": [
    "#### UNIVARIATE ANALYSIS ( Which type of lunch is most common amoung students ? )"
   ]
  },
  {
   "cell_type": "code",
   "execution_count": null,
   "id": "f6fbbebb",
   "metadata": {},
   "outputs": [],
   "source": [
    "plt.rcParams['figure.figsize'] = (15, 9)\n",
    "plt.style.use('seaborn-talk')\n",
    "sns.countplot(df['lunch'], palette = 'PuBu')\n",
    "plt.title('Comparison of different types of lunch', fontweight = 30, fontsize = 20)\n",
    "plt.xlabel('types of lunch')\n",
    "plt.ylabel('count')\n",
    "plt.show()"
   ]
  },
  {
   "cell_type": "markdown",
   "id": "6cbdef79",
   "metadata": {},
   "source": [
    "#### Insights \n",
    "- Students being served Standard lunch was more than free lunch"
   ]
  },
  {
   "cell_type": "markdown",
   "id": "a2a0c603",
   "metadata": {},
   "source": [
    "#### BIVARIATE ANALYSIS (  Is lunch type intake has any impact on student's performance ? )"
   ]
  },
  {
   "cell_type": "code",
   "execution_count": null,
   "id": "3734d30d",
   "metadata": {},
   "outputs": [],
   "source": [
    "f,ax=plt.subplots(1,2,figsize=(20,8))\n",
    "sns.countplot(x=df['parental level of education'],data=df,palette = 'bright',hue='test preparation course',saturation=0.95,ax=ax[0])\n",
    "ax[0].set_title('Students vs test preparation course ',color='black',size=25)\n",
    "for container in ax[0].containers:\n",
    "    ax[0].bar_label(container,color='black',size=20)\n",
    "    \n",
    "sns.countplot(x=df['parental level of education'],data=df,palette = 'bright',hue='lunch',saturation=0.95,ax=ax[1])\n",
    "for container in ax[1].containers:\n",
    "    ax[1].bar_label(container,color='black',size=20)   "
   ]
  },
  {
   "cell_type": "markdown",
   "id": "0725ecca",
   "metadata": {},
   "source": [
    "#### Insights \n",
    "- Students who get Standard Lunch tend to perform better than students who got free/reduced lunch"
   ]
  },
  {
   "cell_type": "markdown",
   "id": "ea0e7531",
   "metadata": {},
   "source": [
    "#### 4.4.5 TEST PREPARATION COURSE COLUMN \n",
    "- Which type of lunch is most common amoung students ?\n",
    "- Is Test prepration course has any impact on student's performance ?"
   ]
  },
  {
   "cell_type": "markdown",
   "id": "ae8229e6",
   "metadata": {},
   "source": [
    "#### BIVARIATE ANALYSIS ( Is Test prepration course has any impact on student's performance ? )"
   ]
  },
  {
   "cell_type": "code",
   "execution_count": null,
   "id": "66da4c6f",
   "metadata": {},
   "outputs": [],
   "source": [
    "plt.figure(figsize=(12,6))\n",
    "plt.subplot(2,2,1)\n",
    "sns.barplot (x=df['lunch'], y=df['math score'], hue=df['test preparation course'])\n",
    "plt.subplot(2,2,2)\n",
    "sns.barplot (x=df['lunch'], y=df['reading score'], hue=df['test preparation course'])\n",
    "plt.subplot(2,2,3)\n",
    "sns.barplot (x=df['lunch'], y=df['writing score'], hue=df['test preparation course'])"
   ]
  },
  {
   "cell_type": "markdown",
   "id": "30cf0f9b",
   "metadata": {},
   "source": [
    "#### Insights  \n",
    "- Students who have completed the Test Prepration Course have scores higher in all three categories than those who haven't taken the course"
   ]
  },
  {
   "cell_type": "markdown",
   "id": "8e667605",
   "metadata": {},
   "source": [
    "#### 4.4.6 CHECKING OUTLIERS"
   ]
  },
  {
   "cell_type": "code",
   "execution_count": null,
   "id": "6ae9d522",
   "metadata": {},
   "outputs": [],
   "source": [
    "plt.subplots(1,4,figsize=(16,5))\n",
    "plt.subplot(141)\n",
    "sns.boxplot(df['math score'],color='skyblue')\n",
    "plt.subplot(142)\n",
    "sns.boxplot(df['reading score'],color='hotpink')\n",
    "plt.subplot(143)\n",
    "sns.boxplot(df['writing score'],color='yellow')\n",
    "plt.subplot(144)\n",
    "sns.boxplot(df['average'],color='lightgreen')\n",
    "plt.show()"
   ]
  },
  {
   "cell_type": "markdown",
   "id": "f61d868c",
   "metadata": {},
   "source": [
    "#### 4.4.7 MUTIVARIATE ANALYSIS USING PAIRPLOT"
   ]
  },
  {
   "cell_type": "code",
   "execution_count": null,
   "id": "ebd9e3c7",
   "metadata": {},
   "outputs": [],
   "source": [
    "sns.pairplot(df,hue = 'gender')\n",
    "plt.show()"
   ]
  },
  {
   "cell_type": "markdown",
   "id": "d8309074",
   "metadata": {},
   "source": [
    "#### Insights\n",
    "- From the above plot it is clear that all the scores increase linearly with each other."
   ]
  },
  {
   "cell_type": "markdown",
   "id": "f4b8bf6b",
   "metadata": {},
   "source": [
    "### 5. Conclusions\n",
    "- Student's Performance is related with lunch, race, parental level education\n",
    "- Females lead in pass percentage and also are top-scorers\n",
    "- Student's Performance is not much related with test preparation course\n",
    "- Finishing preparation course is benefitial."
   ]
  }
 ],
 "metadata": {
  "kernelspec": {
   "display_name": "Python 3 (ipykernel)",
   "language": "python",
   "name": "python3"
  },
  "language_info": {
   "codemirror_mode": {
    "name": "ipython",
    "version": 3
   },
   "file_extension": ".py",
   "mimetype": "text/x-python",
   "name": "python",
   "nbconvert_exporter": "python",
   "pygments_lexer": "ipython3",
   "version": "3.8.3"
  },
  "vscode": {
   "interpreter": {
    "hash": "7f9dc718a552478e14f37d36e0ca2ac7de1ac15c04a40a415ea3abc3fe8a0a39"
   }
  }
 },
 "nbformat": 4,
 "nbformat_minor": 5
}
